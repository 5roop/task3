{
 "cells": [
  {
   "cell_type": "markdown",
   "metadata": {},
   "source": [
    "# Slovenian"
   ]
  },
  {
   "cell_type": "markdown",
   "metadata": {},
   "source": [
    "## Testing `EMBEDDIA/sloberta` vs `EMBEDDIA/crosloengual-bert`, metric: accuracy"
   ]
  },
  {
   "cell_type": "code",
   "execution_count": 22,
   "metadata": {},
   "outputs": [
    {
     "name": "stdout",
     "output_type": "stream",
     "text": [
      "Wilcoxon p value: 0.00781 \t\t(alternative hypothesis: first is greater than the second)\n",
      "MannWhithey p value: 0.00163 \t\t(alternative hypothesis: first is greater than the second)\n",
      "Student p value: 0.000101 \t\t(null hypothesis: samples have identical average, equal variance is assumed but not necessary)\n",
      "Higher average: 0.7785, lower average: 0.7616\n"
     ]
    }
   ],
   "source": [
    "from scipy import stats\n",
    "#Candidate:\n",
    "higher = [0.7704315886134068, 0.7777777777777778, 0.7736455463728191, 0.7764003673094583, 0.7800734618916437, 0.788337924701561, 0.7828282828282829]\n",
    "#Alternative\n",
    "lower = [0.7626262626262627, 0.77089072543618, 0.7626262626262627, 0.758494031221304, 0.7594123048668503, 0.7543617998163453, 0.7630853994490359]\n",
    "\n",
    "print(f\"Wilcoxon p value: {stats.wilcoxon(higher,lower, alternative='greater')[1]:0.3}\", \"\\t\\t(alternative hypothesis: first is greater than the second)\")\n",
    "\n",
    "print(f\"MannWhithey p value: {stats.mannwhitneyu(higher,lower, alternative='greater')[1]:0.3}\", \"\\t\\t(alternative hypothesis: first is greater than the second)\")\n",
    "\n",
    "print(f\"Student p value: {stats.ttest_ind(higher,lower)[1]:0.3}\", \"\\t\\t(null hypothesis: samples have identical average, equal variance is assumed but not necessary)\")\n",
    "import numpy as np\n",
    "print(f\"Higher average: {np.mean(higher):0.4}, lower average: {np.mean(lower):0.4}\")"
   ]
  },
  {
   "cell_type": "markdown",
   "metadata": {},
   "source": [
    "### Testing `EMBEDDIA/sloberta` vs `EMBEDDIA/crosloengual-bert`, metric: f1"
   ]
  },
  {
   "cell_type": "code",
   "execution_count": 23,
   "metadata": {},
   "outputs": [
    {
     "name": "stdout",
     "output_type": "stream",
     "text": [
      "Wilcoxon p value: 0.00781 \t\t(alternative hypothesis: first is greater than the second)\n",
      "MannWhithey p value: 0.00108 \t\t(alternative hypothesis: first is greater than the second)\n",
      "Student p value: 3.95e-05 \t\t(null hypothesis: samples have identical average, equal variance is assumed but not necessary)\n",
      "Higher average: 0.7764, lower average: 0.7585\n"
     ]
    }
   ],
   "source": [
    "from scipy import stats\n",
    "#Candidate:\n",
    "higher = [0.7688172956081655, 0.7759634520286623, 0.7711152460019659, 0.7747038368823205, 0.7772081128841954, 0.7857142399814923, 0.7810369032120938]\n",
    "#Alternative\n",
    "lower = [0.759113833199808, 0.7672336857525612, 0.7594826475863488, 0.7560500494020648, 0.7565539843532022, 0.7512137412224076, 0.7596067627228859]\n",
    "\n",
    "print(f\"Wilcoxon p value: {stats.wilcoxon(higher,lower, alternative='greater')[1]:0.3}\", \"\\t\\t(alternative hypothesis: first is greater than the second)\")\n",
    "\n",
    "print(f\"MannWhithey p value: {stats.mannwhitneyu(higher,lower, alternative='greater')[1]:0.3}\", \"\\t\\t(alternative hypothesis: first is greater than the second)\")\n",
    "\n",
    "print(f\"Student p value: {stats.ttest_ind(higher,lower)[1]:0.3}\", \"\\t\\t(null hypothesis: samples have identical average, equal variance is assumed but not necessary)\")\n",
    "import numpy as np\n",
    "print(f\"Higher average: {np.mean(higher):0.4}, lower average: {np.mean(lower):0.4}\")"
   ]
  },
  {
   "cell_type": "markdown",
   "metadata": {},
   "source": [
    "## Testing `EMBEDDIA/sloberta` vs `xlm-roberta-base`, metric: accuracy"
   ]
  },
  {
   "cell_type": "code",
   "execution_count": 24,
   "metadata": {},
   "outputs": [
    {
     "name": "stdout",
     "output_type": "stream",
     "text": [
      "Wilcoxon p value: 0.00781 \t\t(alternative hypothesis: first is greater than the second)\n",
      "MannWhithey p value: 0.00108 \t\t(alternative hypothesis: first is greater than the second)\n",
      "Student p value: 9.46e-11 \t\t(null hypothesis: samples have identical average, equal variance is assumed but not necessary)\n",
      "Higher average: 0.7785, lower average: 0.686\n"
     ]
    }
   ],
   "source": [
    "from scipy import stats\n",
    "#Candidate:\n",
    "higher = [0.7704315886134068, 0.7777777777777778, 0.7736455463728191, 0.7764003673094583, 0.7800734618916437, 0.788337924701561, 0.7828282828282829]\n",
    "#Alternative\n",
    "lower = [0.682277318640955, 0.6882460973370065, 0.6983471074380165, 0.67722681359045, 0.6988062442607897, 0.6712580348943985, 0.6854912764003673]\n",
    "\n",
    "print(f\"Wilcoxon p value: {stats.wilcoxon(higher,lower, alternative='greater')[1]:0.3}\", \"\\t\\t(alternative hypothesis: first is greater than the second)\")\n",
    "\n",
    "print(f\"MannWhithey p value: {stats.mannwhitneyu(higher,lower, alternative='greater')[1]:0.3}\", \"\\t\\t(alternative hypothesis: first is greater than the second)\")\n",
    "\n",
    "print(f\"Student p value: {stats.ttest_ind(higher,lower)[1]:0.3}\", \"\\t\\t(null hypothesis: samples have identical average, equal variance is assumed but not necessary)\")\n",
    "import numpy as np\n",
    "print(f\"Higher average: {np.mean(higher):0.4}, lower average: {np.mean(lower):0.4}\")"
   ]
  },
  {
   "cell_type": "markdown",
   "metadata": {},
   "source": [
    "### Testing `EMBEDDIA/sloberta` vs `xlm-roberta-base`, metric: f1"
   ]
  },
  {
   "cell_type": "code",
   "execution_count": 25,
   "metadata": {},
   "outputs": [
    {
     "name": "stdout",
     "output_type": "stream",
     "text": [
      "Wilcoxon p value: 0.00781 \t\t(alternative hypothesis: first is greater than the second)\n",
      "MannWhithey p value: 0.00108 \t\t(alternative hypothesis: first is greater than the second)\n",
      "Student p value: 6.94e-11 \t\t(null hypothesis: samples have identical average, equal variance is assumed but not necessary)\n",
      "Higher average: 0.7764, lower average: 0.6827\n"
     ]
    }
   ],
   "source": [
    "from scipy import stats\n",
    "#Candidate:\n",
    "higher = [0.7688172956081655, 0.7759634520286623, 0.7711152460019659, 0.7747038368823205, 0.7772081128841954, 0.7857142399814923, 0.7810369032120938]\n",
    "#Alternative\n",
    "lower = [0.6717524932572289, 0.6862203507318707, 0.6965631457686351, 0.6769734278516519, 0.6937446894980026, 0.6708358662613981, 0.6828436062884093]\n",
    "\n",
    "print(f\"Wilcoxon p value: {stats.wilcoxon(higher,lower, alternative='greater')[1]:0.3}\", \"\\t\\t(alternative hypothesis: first is greater than the second)\")\n",
    "\n",
    "print(f\"MannWhithey p value: {stats.mannwhitneyu(higher,lower, alternative='greater')[1]:0.3}\", \"\\t\\t(alternative hypothesis: first is greater than the second)\")\n",
    "\n",
    "print(f\"Student p value: {stats.ttest_ind(higher,lower)[1]:0.3}\", \"\\t\\t(null hypothesis: samples have identical average, equal variance is assumed but not necessary)\")\n",
    "import numpy as np\n",
    "print(f\"Higher average: {np.mean(higher):0.4}, lower average: {np.mean(lower):0.4}\")"
   ]
  },
  {
   "cell_type": "markdown",
   "metadata": {},
   "source": [
    "# Croatian"
   ]
  },
  {
   "cell_type": "markdown",
   "metadata": {},
   "source": [
    "## Testing `classla/bcms-bertic` vs `EMBEDDIA/crosloengual-bert`, metric: accuracy"
   ]
  },
  {
   "cell_type": "code",
   "execution_count": 26,
   "metadata": {},
   "outputs": [
    {
     "name": "stdout",
     "output_type": "stream",
     "text": [
      "Wilcoxon p value: 0.00781 \t\t(alternative hypothesis: first is greater than the second)\n",
      "MannWhithey p value: 0.00108 \t\t(alternative hypothesis: first is greater than the second)\n",
      "Student p value: 2.43e-10 \t\t(null hypothesis: samples have identical average, equal variance is assumed but not necessary)\n",
      "Higher average: 0.8313, lower average: 0.8054\n"
     ]
    }
   ],
   "source": [
    "from scipy import stats\n",
    "#Candidate:\n",
    "higher = [0.8325471698113207, 0.835377358490566, 0.8316037735849057, 0.8306603773584905, 0.8287735849056603, 0.8283018867924529, 0.8320754716981132]\n",
    "#Alternative\n",
    "lower = [0.8047169811320755, 0.8042452830188679, 0.8033018867924528, 0.8014150943396227, 0.8080188679245283, 0.8075471698113208, 0.8084905660377358]\n",
    "\n",
    "print(f\"Wilcoxon p value: {stats.wilcoxon(higher,lower, alternative='greater')[1]:0.3}\", \"\\t\\t(alternative hypothesis: first is greater than the second)\")\n",
    "\n",
    "print(f\"MannWhithey p value: {stats.mannwhitneyu(higher,lower, alternative='greater')[1]:0.3}\", \"\\t\\t(alternative hypothesis: first is greater than the second)\")\n",
    "\n",
    "print(f\"Student p value: {stats.ttest_ind(higher,lower)[1]:0.3}\", \"\\t\\t(null hypothesis: samples have identical average, equal variance is assumed but not necessary)\")\n",
    "import numpy as np\n",
    "print(f\"Higher average: {np.mean(higher):0.4}, lower average: {np.mean(lower):0.4}\")"
   ]
  },
  {
   "cell_type": "markdown",
   "metadata": {},
   "source": [
    "### metric: f1"
   ]
  },
  {
   "cell_type": "code",
   "execution_count": 27,
   "metadata": {},
   "outputs": [
    {
     "name": "stdout",
     "output_type": "stream",
     "text": [
      "Wilcoxon p value: 0.00781 \t\t(alternative hypothesis: first is greater than the second)\n",
      "MannWhithey p value: 0.00108 \t\t(alternative hypothesis: first is greater than the second)\n",
      "Student p value: 1.27e-10 \t\t(null hypothesis: samples have identical average, equal variance is assumed but not necessary)\n",
      "Higher average: 0.8219, lower average: 0.796\n"
     ]
    }
   ],
   "source": [
    "from scipy import stats\n",
    "#Candidate:\n",
    "higher = [0.8223890350362764, 0.8258849830857479, 0.8221409218995981, 0.8217891286872718, 0.8194808914485652, 0.8191865456494926, 0.8224340315323582]\n",
    "#Alternative\n",
    "lower = [0.7952438186813187, 0.7953073309895347, 0.7943208602955085, 0.7919141395195504, 0.7985768907811182, 0.7977763251289849, 0.7990286728308582]\n",
    "\n",
    "\n",
    "print(f\"Wilcoxon p value: {stats.wilcoxon(higher,lower, alternative='greater')[1]:0.3}\", \"\\t\\t(alternative hypothesis: first is greater than the second)\")\n",
    "\n",
    "print(f\"MannWhithey p value: {stats.mannwhitneyu(higher,lower, alternative='greater')[1]:0.3}\", \"\\t\\t(alternative hypothesis: first is greater than the second)\")\n",
    "\n",
    "print(f\"Student p value: {stats.ttest_ind(higher,lower)[1]:0.3}\", \"\\t\\t(null hypothesis: samples have identical average, equal variance is assumed but not necessary)\")\n",
    "import numpy as np\n",
    "print(f\"Higher average: {np.mean(higher):0.4}, lower average: {np.mean(lower):0.4}\")"
   ]
  },
  {
   "cell_type": "markdown",
   "metadata": {},
   "source": [
    "## Testing `classla/bcms-bertic` vs `xlm-roberta-base`, metric: accuracy"
   ]
  },
  {
   "cell_type": "code",
   "execution_count": 28,
   "metadata": {},
   "outputs": [
    {
     "name": "stdout",
     "output_type": "stream",
     "text": [
      "Wilcoxon p value: 0.00781 \t\t(alternative hypothesis: first is greater than the second)\n",
      "MannWhithey p value: 0.00107 \t\t(alternative hypothesis: first is greater than the second)\n",
      "Student p value: 4.83e-11 \t\t(null hypothesis: samples have identical average, equal variance is assumed but not necessary)\n",
      "Higher average: 0.8313, lower average: 0.7175\n"
     ]
    }
   ],
   "source": [
    "from scipy import stats\n",
    "#Candidate:\n",
    "higher = [0.8325471698113207, 0.835377358490566, 0.8316037735849057, 0.8306603773584905, 0.8287735849056603, 0.8283018867924529, 0.8320754716981132]\n",
    "#Alternative\n",
    "lower = [0.7084905660377359, 0.7160377358490566, 0.7174528301886792, 0.7084905660377359, 0.7415094339622641, 0.7018867924528301, 0.7283018867924528]\n",
    "\n",
    "print(f\"Wilcoxon p value: {stats.wilcoxon(higher,lower, alternative='greater')[1]:0.3}\", \"\\t\\t(alternative hypothesis: first is greater than the second)\")\n",
    "\n",
    "print(f\"MannWhithey p value: {stats.mannwhitneyu(higher,lower, alternative='greater')[1]:0.3}\", \"\\t\\t(alternative hypothesis: first is greater than the second)\")\n",
    "\n",
    "print(f\"Student p value: {stats.ttest_ind(higher,lower)[1]:0.3}\", \"\\t\\t(null hypothesis: samples have identical average, equal variance is assumed but not necessary)\")\n",
    "import numpy as np\n",
    "print(f\"Higher average: {np.mean(higher):0.4}, lower average: {np.mean(lower):0.4}\")"
   ]
  },
  {
   "cell_type": "markdown",
   "metadata": {},
   "source": [
    "### metric: f1"
   ]
  },
  {
   "cell_type": "code",
   "execution_count": 29,
   "metadata": {},
   "outputs": [
    {
     "name": "stdout",
     "output_type": "stream",
     "text": [
      "Wilcoxon p value: 0.00781 \t\t(alternative hypothesis: first is greater than the second)\n",
      "MannWhithey p value: 0.00108 \t\t(alternative hypothesis: first is greater than the second)\n",
      "Student p value: 5.61e-11 \t\t(null hypothesis: samples have identical average, equal variance is assumed but not necessary)\n",
      "Higher average: 0.8219, lower average: 0.7049\n"
     ]
    }
   ],
   "source": [
    "from scipy import stats\n",
    "#Candidate:\n",
    "higher = [0.8223890350362764, 0.8258849830857479, 0.8221409218995981, 0.8217891286872718, 0.8194808914485652, 0.8191865456494926, 0.8224340315323582]\n",
    "#Alternative\n",
    "lower = [0.6924610999064821, 0.7110693946004587, 0.7050340578489841, 0.6874543762971446, 0.7279074713025948, 0.6960410747456196, 0.714631848162606]\n",
    "\n",
    "print(f\"Wilcoxon p value: {stats.wilcoxon(higher,lower, alternative='greater')[1]:0.3}\", \"\\t\\t(alternative hypothesis: first is greater than the second)\")\n",
    "\n",
    "print(f\"MannWhithey p value: {stats.mannwhitneyu(higher,lower, alternative='greater')[1]:0.3}\", \"\\t\\t(alternative hypothesis: first is greater than the second)\")\n",
    "\n",
    "print(f\"Student p value: {stats.ttest_ind(higher,lower)[1]:0.3}\", \"\\t\\t(null hypothesis: samples have identical average, equal variance is assumed but not necessary)\")\n",
    "import numpy as np\n",
    "print(f\"Higher average: {np.mean(higher):0.4}, lower average: {np.mean(lower):0.4}\")"
   ]
  },
  {
   "cell_type": "markdown",
   "metadata": {},
   "source": [
    "# English "
   ]
  },
  {
   "cell_type": "markdown",
   "metadata": {},
   "source": [
    "## Testing `roberta-base` vs `xlm-roberta-base`: metric: accuracy"
   ]
  },
  {
   "cell_type": "code",
   "execution_count": 30,
   "metadata": {},
   "outputs": [
    {
     "name": "stdout",
     "output_type": "stream",
     "text": [
      "Wilcoxon p value: 0.00781 \t\t(alternative hypothesis: first is greater than the second)\n",
      "MannWhithey p value: 0.00108 \t\t(alternative hypothesis: first is greater than the second)\n",
      "Student p value: 1.35e-08 \t\t(null hypothesis: samples have identical average, equal variance is assumed but not necessary)\n",
      "Higher average: 0.7915, lower average: 0.7577\n"
     ]
    }
   ],
   "source": [
    "from scipy import stats\n",
    "#Candidate:\n",
    "higher = [0.7927888792354474, 0.7962641181581234, 0.790616854908775, 0.7819287576020851, 0.7953953084274544, 0.792354474370113, 0.7910512597741095]\n",
    "#Alternative\n",
    "lower =  [0.7510860121633363, 0.7558644656820156, 0.764118158123371, 0.761511728931364, 0.7528236316246742, 0.7602085143353605, 0.7580364900086881]\n",
    "\n",
    "print(f\"Wilcoxon p value: {stats.wilcoxon(higher,lower, alternative='greater')[1]:0.3}\", \"\\t\\t(alternative hypothesis: first is greater than the second)\")\n",
    "\n",
    "print(f\"MannWhithey p value: {stats.mannwhitneyu(higher,lower, alternative='greater')[1]:0.3}\", \"\\t\\t(alternative hypothesis: first is greater than the second)\")\n",
    "\n",
    "print(f\"Student p value: {stats.ttest_ind(higher,lower)[1]:0.3}\", \"\\t\\t(null hypothesis: samples have identical average, equal variance is assumed but not necessary)\")\n",
    "import numpy as np\n",
    "print(f\"Higher average: {np.mean(higher):0.4}, lower average: {np.mean(lower):0.4}\")"
   ]
  },
  {
   "cell_type": "markdown",
   "metadata": {},
   "source": [
    "### metric: f1"
   ]
  },
  {
   "cell_type": "code",
   "execution_count": 31,
   "metadata": {},
   "outputs": [
    {
     "name": "stdout",
     "output_type": "stream",
     "text": [
      "Wilcoxon p value: 0.00781 \t\t(alternative hypothesis: first is greater than the second)\n",
      "MannWhithey p value: 0.00108 \t\t(alternative hypothesis: first is greater than the second)\n",
      "Student p value: 1.05e-07 \t\t(null hypothesis: samples have identical average, equal variance is assumed but not necessary)\n",
      "Higher average: 0.7785, lower average: 0.7402\n"
     ]
    }
   ],
   "source": [
    "from scipy import stats\n",
    "#Candidate:\n",
    "higher = [0.779903005739679, 0.7842603092706253, 0.7780383684410571, 0.7678973127920354, 0.7823783904211664, 0.7787919676803026, 0.7783526833497377]\n",
    "#Alternative\n",
    "lower = [0.725323441712606, 0.7375568511463544, 0.7483051180210519, 0.7440669841634362, 0.740430562037337, 0.7415839651189275, 0.7444385292878978]\n",
    "\n",
    "print(f\"Wilcoxon p value: {stats.wilcoxon(higher,lower, alternative='greater')[1]:0.3}\", \"\\t\\t(alternative hypothesis: first is greater than the second)\")\n",
    "\n",
    "print(f\"MannWhithey p value: {stats.mannwhitneyu(higher,lower, alternative='greater')[1]:0.3}\", \"\\t\\t(alternative hypothesis: first is greater than the second)\")\n",
    "\n",
    "print(f\"Student p value: {stats.ttest_ind(higher,lower)[1]:0.3}\", \"\\t\\t(null hypothesis: samples have identical average, equal variance is assumed but not necessary)\")\n",
    "import numpy as np\n",
    "print(f\"Higher average: {np.mean(higher):0.4}, lower average: {np.mean(lower):0.4}\")"
   ]
  },
  {
   "cell_type": "markdown",
   "metadata": {},
   "source": [
    "## Testing `roberta-base` vs `xlm-roberta-large`: metric: accuracy"
   ]
  },
  {
   "cell_type": "code",
   "execution_count": 18,
   "metadata": {},
   "outputs": [
    {
     "name": "stdout",
     "output_type": "stream",
     "text": [
      "Wilcoxon p value: 0.188 \t\t(alternative hypothesis: first is greater than the second)\n",
      "MannWhithey p value: 0.375 \t\t(alternative hypothesis: first is greater than the second)\n",
      "Student p value: 0.681 \t\t(null hypothesis: samples have identical average, equal variance is assumed but not necessary)\n",
      "Higher average: 0.7915, lower average: 0.7904\n"
     ]
    }
   ],
   "source": [
    "from scipy import stats\n",
    "#Candidate:\n",
    "higher = [0.7927888792354474, 0.7962641181581234, 0.790616854908775, 0.7819287576020851, 0.7953953084274544, 0.792354474370113, 0.7910512597741095]\n",
    "#Alternative\n",
    "lower = [0.787141615986099, 0.7936576889661164, 0.7875760208514335, 0.7953953084274544, 0.7945264986967854, 0.7827975673327541, 0.7919200695047784]\n",
    "\n",
    "print(f\"Wilcoxon p value: {stats.wilcoxon(higher,lower, alternative='greater')[1]:0.3}\", \"\\t\\t(alternative hypothesis: first is greater than the second)\")\n",
    "\n",
    "print(f\"MannWhithey p value: {stats.mannwhitneyu(higher,lower, alternative='greater')[1]:0.3}\", \"\\t\\t(alternative hypothesis: first is greater than the second)\")\n",
    "\n",
    "print(f\"Student p value: {stats.ttest_ind(higher,lower)[1]:0.3}\", \"\\t\\t(null hypothesis: samples have identical average, equal variance is assumed but not necessary)\")\n",
    "import numpy as np\n",
    "print(f\"Higher average: {np.mean(higher):0.4}, lower average: {np.mean(lower):0.4}\")"
   ]
  },
  {
   "cell_type": "markdown",
   "metadata": {},
   "source": [
    "### metric: f1"
   ]
  },
  {
   "cell_type": "code",
   "execution_count": 17,
   "metadata": {},
   "outputs": [
    {
     "name": "stdout",
     "output_type": "stream",
     "text": [
      "Wilcoxon p value: 0.406 \t\t(alternative hypothesis: first is greater than the second)\n",
      "MannWhithey p value: 0.649 \t\t(alternative hypothesis: first is greater than the second)\n",
      "Student p value: 0.934 \t\t(null hypothesis: samples have identical average, equal variance is assumed but not necessary)\n",
      "Higher average: 0.77852, lower average: 0.77876\n"
     ]
    }
   ],
   "source": [
    "from scipy import stats\n",
    "#Candidate:\n",
    "higher = [0.779903005739679, 0.7842603092706253, 0.7780383684410571, 0.7678973127920354, 0.7823783904211664, 0.7787919676803026, 0.7783526833497377]\n",
    "#Alternative\n",
    "lower = [0.7747465654233043, 0.7815003132271792, 0.7749624713549834, 0.78513672182704, 0.782420311908328, 0.7700501853982866, 0.7825030479728539]\n",
    "\n",
    "print(f\"Wilcoxon p value: {stats.wilcoxon(higher,lower, alternative='greater')[1]:0.3}\", \"\\t\\t(alternative hypothesis: first is greater than the second)\")\n",
    "\n",
    "print(f\"MannWhithey p value: {stats.mannwhitneyu(higher,lower, alternative='greater')[1]:0.3}\", \"\\t\\t(alternative hypothesis: first is greater than the second)\")\n",
    "\n",
    "print(f\"Student p value: {stats.ttest_ind(higher,lower)[1]:0.3}\", \"\\t\\t(null hypothesis: samples have identical average, equal variance is assumed but not necessary)\")\n",
    "import numpy as np\n",
    "print(f\"Higher average: {np.mean(higher):0.5}, lower average: {np.mean(lower):0.5}\")"
   ]
  },
  {
   "cell_type": "code",
   "execution_count": 19,
   "metadata": {},
   "outputs": [
    {
     "name": "stdout",
     "output_type": "stream",
     "text": [
      "Wilcoxon p value: 0.656 \t\t(alternative hypothesis: first is greater than the second)\n",
      "MannWhithey p value: 0.399 \t\t(alternative hypothesis: first is greater than the second)\n",
      "Student p value: 0.934 \t\t(null hypothesis: samples have identical average, equal variance is assumed but not necessary)\n",
      "Higher average: 0.77876, lower average: 0.77852\n"
     ]
    }
   ],
   "source": [
    "# Can it perhaps be said the worse model better?\n",
    "from scipy import stats\n",
    "#Candidate:\n",
    "higher = [0.779903005739679, 0.7842603092706253, 0.7780383684410571, 0.7678973127920354, 0.7823783904211664, 0.7787919676803026, 0.7783526833497377]\n",
    "#Alternative\n",
    "lower = [0.7747465654233043, 0.7815003132271792, 0.7749624713549834, 0.78513672182704, 0.782420311908328, 0.7700501853982866, 0.7825030479728539]\n",
    "higher, lower = lower, higher\n",
    "\n",
    "print(f\"Wilcoxon p value: {stats.wilcoxon(higher,lower, alternative='greater')[1]:0.3}\", \"\\t\\t(alternative hypothesis: first is greater than the second)\")\n",
    "\n",
    "print(f\"MannWhithey p value: {stats.mannwhitneyu(higher,lower, alternative='greater')[1]:0.3}\", \"\\t\\t(alternative hypothesis: first is greater than the second)\")\n",
    "\n",
    "print(f\"Student p value: {stats.ttest_ind(higher,lower)[1]:0.3}\", \"\\t\\t(null hypothesis: samples have identical average, equal variance is assumed but not necessary)\")\n",
    "import numpy as np\n",
    "print(f\"Higher average: {np.mean(higher):0.5}, lower average: {np.mean(lower):0.5}\")"
   ]
  },
  {
   "cell_type": "markdown",
   "metadata": {},
   "source": [
    "## Testing `roberta-base` vs `distilbert-base-uncased-finetuned-sst-2-english`: metric: accuracy"
   ]
  },
  {
   "cell_type": "code",
   "execution_count": 20,
   "metadata": {},
   "outputs": [
    {
     "name": "stdout",
     "output_type": "stream",
     "text": [
      "Wilcoxon p value: 0.00781 \t\t(alternative hypothesis: first is greater than the second)\n",
      "MannWhithey p value: 0.00108 \t\t(alternative hypothesis: first is greater than the second)\n",
      "Student p value: 1.33e-12 \t\t(null hypothesis: samples have identical average, equal variance is assumed but not necessary)\n",
      "Higher average: 0.7915, lower average: 0.7201\n"
     ]
    }
   ],
   "source": [
    "from scipy import stats\n",
    "#Candidate:\n",
    "higher = [0.7927888792354474, 0.7962641181581234, 0.790616854908775, 0.7819287576020851, 0.7953953084274544, 0.792354474370113, 0.7910512597741095]\n",
    "#Alternative\n",
    "lower = [0.7232841007819287, 0.7132927888792354, 0.7224152910512598, 0.7158992180712423, 0.7254561251086012, 0.7193744569939183, 0.7211120764552563]\n",
    "\n",
    "print(f\"Wilcoxon p value: {stats.wilcoxon(higher,lower, alternative='greater')[1]:0.3}\", \"\\t\\t(alternative hypothesis: first is greater than the second)\")\n",
    "\n",
    "print(f\"MannWhithey p value: {stats.mannwhitneyu(higher,lower, alternative='greater')[1]:0.3}\", \"\\t\\t(alternative hypothesis: first is greater than the second)\")\n",
    "\n",
    "print(f\"Student p value: {stats.ttest_ind(higher,lower)[1]:0.3}\", \"\\t\\t(null hypothesis: samples have identical average, equal variance is assumed but not necessary)\")\n",
    "import numpy as np\n",
    "print(f\"Higher average: {np.mean(higher):0.4}, lower average: {np.mean(lower):0.4}\")"
   ]
  },
  {
   "cell_type": "markdown",
   "metadata": {},
   "source": [
    "### metric: f1"
   ]
  },
  {
   "cell_type": "code",
   "execution_count": 21,
   "metadata": {},
   "outputs": [
    {
     "name": "stdout",
     "output_type": "stream",
     "text": [
      "Wilcoxon p value: 0.00781 \t\t(alternative hypothesis: first is greater than the second)\n",
      "MannWhithey p value: 0.00108 \t\t(alternative hypothesis: first is greater than the second)\n",
      "Student p value: 3.03e-12 \t\t(null hypothesis: samples have identical average, equal variance is assumed but not necessary)\n",
      "Higher average: 0.77852, lower average: 0.69862\n"
     ]
    }
   ],
   "source": [
    "from scipy import stats\n",
    "#Candidate:\n",
    "higher = [0.779903005739679, 0.7842603092706253, 0.7780383684410571, 0.7678973127920354, 0.7823783904211664, 0.7787919676803026, 0.7783526833497377]\n",
    "#Alternative\n",
    "lower = [0.7044579789396375, 0.6905553514298262, 0.6993976623782681, 0.6936789340938113, 0.7055884733689493, 0.6957070128339444, 0.7009300631374454]\n",
    "\n",
    "print(f\"Wilcoxon p value: {stats.wilcoxon(higher,lower, alternative='greater')[1]:0.3}\", \"\\t\\t(alternative hypothesis: first is greater than the second)\")\n",
    "\n",
    "print(f\"MannWhithey p value: {stats.mannwhitneyu(higher,lower, alternative='greater')[1]:0.3}\", \"\\t\\t(alternative hypothesis: first is greater than the second)\")\n",
    "\n",
    "print(f\"Student p value: {stats.ttest_ind(higher,lower)[1]:0.3}\", \"\\t\\t(null hypothesis: samples have identical average, equal variance is assumed but not necessary)\")\n",
    "import numpy as np\n",
    "print(f\"Higher average: {np.mean(higher):0.5}, lower average: {np.mean(lower):0.5}\")"
   ]
  },
  {
   "cell_type": "code",
   "execution_count": null,
   "metadata": {},
   "outputs": [],
   "source": []
  },
  {
   "cell_type": "code",
   "execution_count": null,
   "metadata": {},
   "outputs": [],
   "source": []
  },
  {
   "cell_type": "code",
   "execution_count": null,
   "metadata": {},
   "outputs": [],
   "source": []
  },
  {
   "cell_type": "markdown",
   "metadata": {},
   "source": [
    "# Tabula rasa"
   ]
  },
  {
   "cell_type": "markdown",
   "metadata": {},
   "source": [
    "## Testing `classla/bcms-bertic` vs `EMBEDDIA/crosloengual-bert`, metric: accuracy"
   ]
  },
  {
   "cell_type": "code",
   "execution_count": 3,
   "metadata": {},
   "outputs": [
    {
     "name": "stdout",
     "output_type": "stream",
     "text": [
      "Wilcoxon p value: 0.00781 \t\t(alternative hypothesis: first is greater than the second)\n",
      "MannWhithey p value: 0.00108 \t\t(alternative hypothesis: first is greater than the second)\n",
      "Student p value: 9.46e-11 \t\t(null hypothesis: samples have identical average, equal variance is assumed but not necessary)\n"
     ]
    }
   ],
   "source": [
    "from scipy import stats\n",
    "#Candidate:\n",
    "higher = \n",
    "#Alternative\n",
    "lower = \n",
    "\n",
    "print(f\"Wilcoxon p value: {stats.wilcoxon(higher,lower, alternative='greater')[1]:0.3}\", \"\\t\\t(alternative hypothesis: first is greater than the second)\")\n",
    "\n",
    "print(f\"MannWhithey p value: {stats.mannwhitneyu(higher,lower, alternative='greater')[1]:0.3}\", \"\\t\\t(alternative hypothesis: first is greater than the second)\")\n",
    "\n",
    "print(f\"Student p value: {stats.ttest_ind(higher,lower)[1]:0.3}\", \"\\t\\t(null hypothesis: samples have identical average, equal variance is assumed but not necessary)\")\n"
   ]
  },
  {
   "cell_type": "markdown",
   "metadata": {},
   "source": [
    "### metric: f1"
   ]
  },
  {
   "cell_type": "code",
   "execution_count": 4,
   "metadata": {},
   "outputs": [
    {
     "name": "stdout",
     "output_type": "stream",
     "text": [
      "Wilcoxon p value: 0.00781 \t\t(alternative hypothesis: first is greater than the second)\n",
      "MannWhithey p value: 0.00108 \t\t(alternative hypothesis: first is greater than the second)\n",
      "Student p value: 6.94e-11 \t\t(null hypothesis: samples have identical average, equal variance is assumed but not necessary)\n"
     ]
    }
   ],
   "source": [
    "from scipy import stats\n",
    "#Candidate:\n",
    "higher = \n",
    "#Alternative\n",
    "lower = \n",
    "\n",
    "print(f\"Wilcoxon p value: {stats.wilcoxon(higher,lower, alternative='greater')[1]:0.3}\", \"\\t\\t(alternative hypothesis: first is greater than the second)\")\n",
    "\n",
    "print(f\"MannWhithey p value: {stats.mannwhitneyu(higher,lower, alternative='greater')[1]:0.3}\", \"\\t\\t(alternative hypothesis: first is greater than the second)\")\n",
    "\n",
    "print(f\"Student p value: {stats.ttest_ind(higher,lower)[1]:0.3}\", \"\\t\\t(null hypothesis: samples have identical average, equal variance is assumed but not necessary)\")\n"
   ]
  },
  {
   "cell_type": "code",
   "execution_count": null,
   "metadata": {},
   "outputs": [],
   "source": []
  }
 ],
 "metadata": {
  "interpreter": {
   "hash": "128e94d0d710fc4e2317939373f8a6b53335e7418499152b9cd8e5bcd86f59a2"
  },
  "kernelspec": {
   "display_name": "Python 3",
   "language": "python",
   "name": "python3"
  },
  "language_info": {
   "codemirror_mode": {
    "name": "ipython",
    "version": 3
   },
   "file_extension": ".py",
   "mimetype": "text/x-python",
   "name": "python",
   "nbconvert_exporter": "python",
   "pygments_lexer": "ipython3",
   "version": "3.8.3"
  }
 },
 "nbformat": 4,
 "nbformat_minor": 4
}
